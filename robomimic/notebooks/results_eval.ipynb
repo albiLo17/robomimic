{
 "cells": [
  {
   "cell_type": "code",
   "execution_count": 2,
   "metadata": {},
   "outputs": [
    {
     "name": "stdout",
     "output_type": "stream",
     "text": [
      "Dataset registry: {'lift': {'ph': {'raw': {'url': 'http://downloads.cs.stanford.edu/downloads/rt_benchmark/lift/ph/demo_v141.hdf5', 'horizon': 400}, 'low_dim': {'url': 'http://downloads.cs.stanford.edu/downloads/rt_benchmark/lift/ph/low_dim_v141.hdf5', 'horizon': 400}, 'image': {'url': None, 'horizon': 400}}, 'mh': {'raw': {'url': 'http://downloads.cs.stanford.edu/downloads/rt_benchmark/lift/mh/demo_v141.hdf5', 'horizon': 500}, 'low_dim': {'url': 'http://downloads.cs.stanford.edu/downloads/rt_benchmark/lift/mh/low_dim_v141.hdf5', 'horizon': 500}, 'image': {'url': None, 'horizon': 500}}, 'mg': {'raw': {'url': 'http://downloads.cs.stanford.edu/downloads/rt_benchmark/lift/mg/demo_v141.hdf5', 'horizon': 400}, 'low_dim_sparse': {'url': 'http://downloads.cs.stanford.edu/downloads/rt_benchmark/lift/mg/low_dim_sparse_v141.hdf5', 'horizon': 400}, 'image_sparse': {'url': None, 'horizon': 400}, 'low_dim_dense': {'url': 'http://downloads.cs.stanford.edu/downloads/rt_benchmark/lift/mg/low_dim_dense_v141.hdf5', 'horizon': 400}, 'image_dense': {'url': None, 'horizon': 400}}}, 'can': {'ph': {'raw': {'url': 'http://downloads.cs.stanford.edu/downloads/rt_benchmark/can/ph/demo_v141.hdf5', 'horizon': 400}, 'low_dim': {'url': 'http://downloads.cs.stanford.edu/downloads/rt_benchmark/can/ph/low_dim_v141.hdf5', 'horizon': 400}, 'image': {'url': None, 'horizon': 400}}, 'mh': {'raw': {'url': 'http://downloads.cs.stanford.edu/downloads/rt_benchmark/can/mh/demo_v141.hdf5', 'horizon': 500}, 'low_dim': {'url': 'http://downloads.cs.stanford.edu/downloads/rt_benchmark/can/mh/low_dim_v141.hdf5', 'horizon': 500}, 'image': {'url': None, 'horizon': 500}}, 'mg': {'raw': {'url': 'http://downloads.cs.stanford.edu/downloads/rt_benchmark/can/mg/demo_v141.hdf5', 'horizon': 400}, 'low_dim_sparse': {'url': 'http://downloads.cs.stanford.edu/downloads/rt_benchmark/can/mg/low_dim_sparse_v141.hdf5', 'horizon': 400}, 'image_sparse': {'url': None, 'horizon': 400}, 'low_dim_dense': {'url': 'http://downloads.cs.stanford.edu/downloads/rt_benchmark/can/mg/low_dim_dense_v141.hdf5', 'horizon': 400}, 'image_dense': {'url': None, 'horizon': 400}}, 'paired': {'raw': {'url': 'http://downloads.cs.stanford.edu/downloads/rt_benchmark/can/paired/demo_v141.hdf5', 'horizon': 400}, 'low_dim': {'url': 'http://downloads.cs.stanford.edu/downloads/rt_benchmark/can/paired/low_dim_v141.hdf5', 'horizon': 400}, 'image': {'url': None, 'horizon': 400}}}, 'square': {'ph': {'raw': {'url': 'http://downloads.cs.stanford.edu/downloads/rt_benchmark/square/ph/demo_v141.hdf5', 'horizon': 400}, 'low_dim': {'url': 'http://downloads.cs.stanford.edu/downloads/rt_benchmark/square/ph/low_dim_v141.hdf5', 'horizon': 400}, 'image': {'url': None, 'horizon': 400}}, 'mh': {'raw': {'url': 'http://downloads.cs.stanford.edu/downloads/rt_benchmark/square/mh/demo_v141.hdf5', 'horizon': 500}, 'low_dim': {'url': 'http://downloads.cs.stanford.edu/downloads/rt_benchmark/square/mh/low_dim_v141.hdf5', 'horizon': 500}, 'image': {'url': None, 'horizon': 500}}}, 'transport': {'ph': {'raw': {'url': 'http://downloads.cs.stanford.edu/downloads/rt_benchmark/transport/ph/demo_v141.hdf5', 'horizon': 700}, 'low_dim': {'url': 'http://downloads.cs.stanford.edu/downloads/rt_benchmark/transport/ph/low_dim_v141.hdf5', 'horizon': 700}, 'image': {'url': None, 'horizon': 700}}, 'mh': {'raw': {'url': 'http://downloads.cs.stanford.edu/downloads/rt_benchmark/transport/mh/demo_v141.hdf5', 'horizon': 1100}, 'low_dim': {'url': 'http://downloads.cs.stanford.edu/downloads/rt_benchmark/transport/mh/low_dim_v141.hdf5', 'horizon': 1100}, 'image': {'url': None, 'horizon': 1100}}}, 'tool_hang': {'ph': {'raw': {'url': 'http://downloads.cs.stanford.edu/downloads/rt_benchmark/tool_hang/ph/demo_v141.hdf5', 'horizon': 700}, 'low_dim': {'url': 'http://downloads.cs.stanford.edu/downloads/rt_benchmark/tool_hang/ph/low_dim_v141.hdf5', 'horizon': 700}, 'image': {'url': None, 'horizon': 700}}}, 'lift_real': {'ph': {'raw': {'url': 'http://downloads.cs.stanford.edu/downloads/rt_benchmark/lift_real/ph/demo.hdf5', 'horizon': 1000}}}, 'can_real': {'ph': {'raw': {'url': 'http://downloads.cs.stanford.edu/downloads/rt_benchmark/can_real/ph/demo.hdf5', 'horizon': 1000}}}, 'tool_hang_real': {'ph': {'raw': {'url': 'http://downloads.cs.stanford.edu/downloads/rt_benchmark/tool_hang_real/ph/demo.hdf5', 'horizon': 1000}}}}\n"
     ]
    }
   ],
   "source": [
    "import os\n",
    "import json\n",
    "import h5py\n",
    "import argparse\n",
    "import imageio\n",
    "import numpy as np\n",
    "import h5py\n",
    "import json\n",
    "import numpy as np\n",
    "import torch\n",
    "import robomimic.utils.file_utils as FileUtils\n",
    "import robomimic.utils.torch_utils as TorchUtils\n",
    "from robomimic.algo import RolloutPolicy\n",
    "from robomimic.envs.env_base import EnvBase\n",
    "from copy import deepcopy\n",
    "import matplotlib.pyplot as plt\n",
    "\n",
    "\n",
    "import robomimic\n",
    "import robomimic.utils.obs_utils as ObsUtils\n",
    "import robomimic.utils.env_utils as EnvUtils\n",
    "import robomimic.utils.file_utils as FileUtils\n",
    "from robomimic.utils.vis_utils import depth_to_rgb\n",
    "from robomimic.envs.env_base import EnvBase, EnvType\n",
    "# the dataset registry can be found at robomimic/__init__.py\n",
    "from robomimic import DATASET_REGISTRY\n",
    "print(f\"Dataset registry: {DATASET_REGISTRY}\")\n",
    "# Define default cameras to use for each env type\n",
    "DEFAULT_CAMERAS = {\n",
    "    EnvType.ROBOSUITE_TYPE: [\"agentview\"],\n",
    "    EnvType.IG_MOMART_TYPE: [\"rgb\"],\n",
    "    EnvType.GYM_TYPE: ValueError(\"No camera names supported for gym type env!\"),\n",
    "}\n",
    "import glob"
   ]
  },
  {
   "cell_type": "code",
   "execution_count": 31,
   "metadata": {},
   "outputs": [
    {
     "name": "stdout",
     "output_type": "stream",
     "text": [
      "../../output/mrl_trained_models_ds/MetricRL_can_ph/20240829193845\n",
      "Task: can, Dataset: ph, Success rate: 0.9666666666666667\n",
      "../../output/mrl_trained_models_ds/MetricRL_can_mh/20240829205606\n",
      "Task: can, Dataset: mh, Success rate: 0.9666666666666667\n",
      "../../output/mrl_trained_models_ds/MetricRL_can_mg/20240903092710\n",
      "Task: can, Dataset: mg, Success rate: 0.43333333333333335\n"
     ]
    }
   ],
   "source": [
    "results_path = \"../../output/mrl_trained_models_ds/\"\n",
    "\n",
    "datasets = [\"ph\", \"mh\"]#, \"mg\"]\n",
    "tasks = [\"square\", \"transport\"] # square transport\n",
    "\n",
    "datasets = [\"ph\", \"mh\", \"mg\"]#, \"mg\"]\n",
    "tasks = [\"can\"] # square transport\n",
    "\n",
    "# datasets = [\"ph\", \"mh\"]#, \"mg\"]\n",
    "# tasks = [\"can\"] # square transport\n",
    "\n",
    "success_rates = {}\n",
    "paths = []\n",
    "\n",
    "for task in tasks:\n",
    "    success_rates.update({task: {}})\n",
    "    for data in datasets:\n",
    "        # print(results_path + \"MetricRL_\" +  task + \"_\" + data + \"/\")\n",
    "        path = glob.glob(results_path + \"MetricRL_\" +  task + \"_\" + data + \"/*\")[0]\n",
    "        paths.append(path)\n",
    "        print(path)\n",
    "        success_rate = np.load(os.path.join(path, \"agent_results\", \"success_rates.npy\"))\n",
    "        # plt.figure()\n",
    "        # plt.plot(success_rate)\n",
    "        # plt.title(f\"Task: {task}, Dataset: {data}\")\n",
    "        success_rates[task].update({data: success_rate})\n",
    "        print(f\"Task: {task}, Dataset: {data}, Success rate: {success_rate.mean(axis=1).max()}\")\n",
    "        "
   ]
  },
  {
   "cell_type": "code",
   "execution_count": 25,
   "metadata": {},
   "outputs": [
    {
     "data": {
      "text/plain": [
       "(40, 30)"
      ]
     },
     "execution_count": 25,
     "metadata": {},
     "output_type": "execute_result"
    }
   ],
   "source": []
  },
  {
   "cell_type": "code",
   "execution_count": null,
   "metadata": {},
   "outputs": [],
   "source": []
  }
 ],
 "metadata": {
  "kernelspec": {
   "display_name": "robomimic",
   "language": "python",
   "name": "python3"
  },
  "language_info": {
   "codemirror_mode": {
    "name": "ipython",
    "version": 3
   },
   "file_extension": ".py",
   "mimetype": "text/x-python",
   "name": "python",
   "nbconvert_exporter": "python",
   "pygments_lexer": "ipython3",
   "version": "3.8.19"
  }
 },
 "nbformat": 4,
 "nbformat_minor": 2
}
